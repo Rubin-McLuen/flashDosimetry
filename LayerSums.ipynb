{
 "cells": [
  {
   "cell_type": "code",
   "execution_count": 68,
   "id": "cf4d65fc-c6fa-4800-a724-11249ca2b898",
   "metadata": {},
   "outputs": [],
   "source": [
    "file_path = \"/home/jupyter-rubin/flashDosimetrySlim/NewRunOutputs/output24/h03_e04_a0.5_edep-Dose.txt\""
   ]
  },
  {
   "cell_type": "code",
   "execution_count": 69,
   "id": "29b11297-d773-4db6-b6b3-f7ac243c528d",
   "metadata": {},
   "outputs": [],
   "source": [
    "def edep_dose_sum(file_path):\n",
    "    file = open(file_path, \"r\")\n",
    "    lines = file.readlines()[6:]\n",
    "    \n",
    "    i = 0\n",
    "    data = [0] * 6\n",
    "    for line in lines:\n",
    "        if line == \"\\n\":\n",
    "            i = 0\n",
    "        else:\n",
    "            line = line.split()\n",
    "            data[i] += sum([float(r) for r in line])\n",
    "            i += 1\n",
    "            \n",
    "    return data"
   ]
  },
  {
   "cell_type": "code",
   "execution_count": 70,
   "id": "70dd7291-9f8f-4481-a627-44f5e60c5953",
   "metadata": {},
   "outputs": [
    {
     "data": {
      "text/plain": [
       "[0.00013280606000000002,\n",
       " 0.0001215160146,\n",
       " 0.000174736182,\n",
       " 0.000144549683,\n",
       " 0.000130292598,\n",
       " 0.00011865447253000001]"
      ]
     },
     "execution_count": 70,
     "metadata": {},
     "output_type": "execute_result"
    }
   ],
   "source": [
    " edep_dose_sum(file_path)"
   ]
  },
  {
   "cell_type": "code",
   "execution_count": null,
   "id": "155fd9af-84b1-472d-a244-45555c92cfe0",
   "metadata": {},
   "outputs": [],
   "source": []
  }
 ],
 "metadata": {
  "kernelspec": {
   "display_name": "Python 3",
   "language": "python",
   "name": "python3"
  },
  "language_info": {
   "codemirror_mode": {
    "name": "ipython",
    "version": 3
   },
   "file_extension": ".py",
   "mimetype": "text/x-python",
   "name": "python",
   "nbconvert_exporter": "python",
   "pygments_lexer": "ipython3",
   "version": "3.7.3"
  }
 },
 "nbformat": 4,
 "nbformat_minor": 5
}
